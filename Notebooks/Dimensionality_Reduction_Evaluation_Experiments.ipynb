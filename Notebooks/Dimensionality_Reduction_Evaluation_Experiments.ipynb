{
 "cells": [
  {
   "cell_type": "markdown",
   "id": "40ff6883-e48e-4283-8081-550292fe2d27",
   "metadata": {},
   "source": [
    "# Dimensionality Reduction Evaluation Code Appendix\n",
    "\n",
    "This code is intended to accompany the final project paper for EN.625.609.83.SP22 Matrix Theory."
   ]
  },
  {
   "cell_type": "code",
   "execution_count": 1,
   "id": "ed1153ef-4d95-4915-8897-1df2e80d0244",
   "metadata": {},
   "outputs": [
    {
     "name": "stdout",
     "output_type": "stream",
     "text": [
      "Populating the interactive namespace from numpy and matplotlib\n"
     ]
    }
   ],
   "source": [
    "%pylab inline"
   ]
  },
  {
   "cell_type": "markdown",
   "id": "138a8379-314f-429a-8b63-a47d2cf33c9f",
   "metadata": {},
   "source": [
    "## Enviornment preparation"
   ]
  },
  {
   "cell_type": "code",
   "execution_count": 33,
   "id": "b04eb0fb-5153-44b5-8be5-14084ad90e32",
   "metadata": {},
   "outputs": [],
   "source": [
    "import pickle\n",
    "from tqdm.notebook import tqdm"
   ]
  },
  {
   "cell_type": "markdown",
   "id": "6a986605-d11b-497f-af63-7f937e3451fe",
   "metadata": {},
   "source": [
    "The following packages are introduced so we can manage the Marvel graph data."
   ]
  },
  {
   "cell_type": "code",
   "execution_count": 2,
   "id": "149a03c1-f7dd-4887-ab46-11d6b5997a7c",
   "metadata": {},
   "outputs": [],
   "source": [
    "import networkx as nx\n",
    "import pandas as pd"
   ]
  },
  {
   "cell_type": "markdown",
   "id": "90444d71-1c53-431b-bbdc-c607fefd8d1a",
   "metadata": {},
   "source": [
    "These next packages are imported so we can handle the 20 Newsgroups text data."
   ]
  },
  {
   "cell_type": "code",
   "execution_count": 3,
   "id": "5b0e5e9a-23ac-485c-831e-8b8521cd213b",
   "metadata": {},
   "outputs": [],
   "source": [
    "import Stemmer\n",
    "from datasets import load_dataset\n",
    "from sklearn.feature_extraction.text import CountVectorizer"
   ]
  },
  {
   "cell_type": "markdown",
   "id": "7b56776e-8fe5-49ed-a405-b4fb42901997",
   "metadata": {},
   "source": [
    "The following packages are used to perform dimensionality reduction."
   ]
  },
  {
   "cell_type": "code",
   "execution_count": 4,
   "id": "092a6ed7-a179-4162-b817-e5e9cabe7636",
   "metadata": {},
   "outputs": [],
   "source": [
    "from sklearn.decomposition import PCA, NMF\n",
    "from umap import UMAP\n",
    "import plotly.express as px"
   ]
  },
  {
   "cell_type": "markdown",
   "id": "136b709a-51eb-49dc-8316-2405ece6686d",
   "metadata": {},
   "source": [
    "The next cells are for tools for evaluating dimensionality reduction.  \n",
    "For this next cell you'll first need to run\n",
    "```Bash\n",
    "pip install git+https://github.com/samueljackson92/coranking.git\n",
    "```"
   ]
  },
  {
   "cell_type": "code",
   "execution_count": 66,
   "id": "08d40f46-9530-47d2-9799-7ee95b81f53d",
   "metadata": {},
   "outputs": [],
   "source": [
    "from coranking.metrics import trustworthiness, continuity"
   ]
  },
  {
   "cell_type": "markdown",
   "id": "28bde604-6a44-43f5-ba1e-c8b2113a742d",
   "metadata": {},
   "source": [
    "pyDRMetrics is a great library, but very, very slow."
   ]
  },
  {
   "cell_type": "code",
   "execution_count": 5,
   "id": "eff61adb-dd42-4daa-9df2-f027f03ed291",
   "metadata": {},
   "outputs": [],
   "source": [
    "from pyDRMetrics.pyDRMetrics import *"
   ]
  },
  {
   "cell_type": "markdown",
   "id": "9f4a63af-8844-45c7-a1c0-ef78c60a0060",
   "metadata": {},
   "source": [
    "TALE is a standalone tool in Python and Java for reviewing low-dimensional projections. We will pull in some classes and functions from the backend. It is still under construction, and the backend was not intended for this kind of use, so our implementation is a little hacky. All credit for that backend code goes to the TALE team."
   ]
  },
  {
   "cell_type": "code",
   "execution_count": 6,
   "id": "528c0c37-7cb9-4b42-9631-b2a2d95576f3",
   "metadata": {},
   "outputs": [],
   "source": [
    "from coranking.metrics import trustworthiness, continuity\n",
    "import six\n",
    "import sys\n",
    "sys.modules['sklearn.externals.six'] = six\n",
    "import talebackend"
   ]
  },
  {
   "cell_type": "code",
   "execution_count": 67,
   "id": "944e80b9-821d-419f-86f6-04aef0563fe8",
   "metadata": {},
   "outputs": [],
   "source": [
    "from importlib import reload"
   ]
  },
  {
   "cell_type": "code",
   "execution_count": 132,
   "id": "7087a69e-5db7-483f-b32f-379a1b771cc8",
   "metadata": {},
   "outputs": [],
   "source": [
    "talebackend = reload(talebackend)"
   ]
  },
  {
   "cell_type": "markdown",
   "id": "5485f729-b9dd-45ec-a649-5db69f4c18f9",
   "metadata": {},
   "source": [
    "## Data preparation"
   ]
  },
  {
   "cell_type": "markdown",
   "id": "7dac946a-71d7-45a4-a2a2-a7e0ffc4518b",
   "metadata": {},
   "source": [
    "### Marvel Character Network\n",
    "Before running this next cell, you must download and extract the data from [the Kaggle dataset](https://www.kaggle.com/datasets/csanhueza/the-marvel-universe-social-network?resource=download), placing it in the superdirectory `Data`."
   ]
  },
  {
   "cell_type": "code",
   "execution_count": 7,
   "id": "2ebff9f7-cb2a-4618-b69a-2849bfb1c191",
   "metadata": {},
   "outputs": [],
   "source": [
    "hdf = pd.read_csv(\"../Data/hero-network.csv\")"
   ]
  },
  {
   "cell_type": "code",
   "execution_count": 8,
   "id": "67a41548-91ac-4241-847a-dec2be375cdd",
   "metadata": {},
   "outputs": [
    {
     "data": {
      "text/plain": [
       "(574467, 2)"
      ]
     },
     "execution_count": 8,
     "metadata": {},
     "output_type": "execute_result"
    }
   ],
   "source": [
    "hdf.shape"
   ]
  },
  {
   "cell_type": "code",
   "execution_count": 9,
   "id": "c0bcadf0-8a43-481e-b89c-392c6ca8f5c6",
   "metadata": {},
   "outputs": [],
   "source": [
    "udf = hdf.drop_duplicates()"
   ]
  },
  {
   "cell_type": "code",
   "execution_count": 10,
   "id": "c5cb4cef-6d66-4c17-a7df-627c5cd5e588",
   "metadata": {},
   "outputs": [
    {
     "data": {
      "text/plain": [
       "(224181, 2)"
      ]
     },
     "execution_count": 10,
     "metadata": {},
     "output_type": "execute_result"
    }
   ],
   "source": [
    "udf.shape"
   ]
  },
  {
   "cell_type": "code",
   "execution_count": 11,
   "id": "7efec4c8-3fa3-4c7d-a032-62d181b5f726",
   "metadata": {},
   "outputs": [],
   "source": [
    "columns = hdf.columns.tolist()\n",
    "hdf[\"weights\"] = 1\n",
    "#hdf = hdf.groupby(columns)[\"weights\"].count().reset_index()\n",
    "tdf = hdf.groupby(columns)[\"weights\"].count()\n",
    "tdf = tdf.reset_index()"
   ]
  },
  {
   "cell_type": "code",
   "execution_count": 12,
   "id": "f14d80ac-3fd8-463b-93d2-8a9149e395aa",
   "metadata": {},
   "outputs": [
    {
     "data": {
      "text/plain": [
       "1      138829\n",
       "2       39326\n",
       "3       16532\n",
       "4        8548\n",
       "5        5061\n",
       "        ...  \n",
       "168         1\n",
       "351         1\n",
       "295         1\n",
       "167         1\n",
       "184         1\n",
       "Name: weights, Length: 200, dtype: int64"
      ]
     },
     "execution_count": 12,
     "metadata": {},
     "output_type": "execute_result"
    }
   ],
   "source": [
    "tdf.weights.value_counts()"
   ]
  },
  {
   "cell_type": "code",
   "execution_count": 13,
   "id": "6db52fc5-b43b-41d1-a157-f14975e04832",
   "metadata": {},
   "outputs": [
    {
     "data": {
      "text/html": [
       "<div>\n",
       "<style scoped>\n",
       "    .dataframe tbody tr th:only-of-type {\n",
       "        vertical-align: middle;\n",
       "    }\n",
       "\n",
       "    .dataframe tbody tr th {\n",
       "        vertical-align: top;\n",
       "    }\n",
       "\n",
       "    .dataframe thead th {\n",
       "        text-align: right;\n",
       "    }\n",
       "</style>\n",
       "<table border=\"1\" class=\"dataframe\">\n",
       "  <thead>\n",
       "    <tr style=\"text-align: right;\">\n",
       "      <th></th>\n",
       "      <th>hero1</th>\n",
       "      <th>hero2</th>\n",
       "      <th>weights</th>\n",
       "    </tr>\n",
       "  </thead>\n",
       "  <tbody>\n",
       "    <tr>\n",
       "      <th>3090</th>\n",
       "      <td>ANGEL/WARREN KENNETH</td>\n",
       "      <td>BEAST/HENRY &amp;HANK&amp; P</td>\n",
       "      <td>156</td>\n",
       "    </tr>\n",
       "    <tr>\n",
       "      <th>3346</th>\n",
       "      <td>ANGEL/WARREN KENNETH</td>\n",
       "      <td>ICEMAN/ROBERT BOBBY</td>\n",
       "      <td>162</td>\n",
       "    </tr>\n",
       "    <tr>\n",
       "      <th>4408</th>\n",
       "      <td>ANT-MAN/DR. HENRY J.</td>\n",
       "      <td>CAPTAIN AMERICA</td>\n",
       "      <td>154</td>\n",
       "    </tr>\n",
       "    <tr>\n",
       "      <th>4623</th>\n",
       "      <td>ANT-MAN/DR. HENRY J.</td>\n",
       "      <td>IRON MAN/TONY STARK</td>\n",
       "      <td>156</td>\n",
       "    </tr>\n",
       "    <tr>\n",
       "      <th>5049</th>\n",
       "      <td>ANT-MAN/DR. HENRY J.</td>\n",
       "      <td>WASP/JANET VAN DYNE</td>\n",
       "      <td>195</td>\n",
       "    </tr>\n",
       "    <tr>\n",
       "      <th>...</th>\n",
       "      <td>...</td>\n",
       "      <td>...</td>\n",
       "      <td>...</td>\n",
       "    </tr>\n",
       "    <tr>\n",
       "      <th>212460</th>\n",
       "      <td>WASP/JANET VAN DYNE</td>\n",
       "      <td>CAPTAIN AMERICA</td>\n",
       "      <td>193</td>\n",
       "    </tr>\n",
       "    <tr>\n",
       "      <th>212669</th>\n",
       "      <td>WASP/JANET VAN DYNE</td>\n",
       "      <td>IRON MAN/TONY STARK</td>\n",
       "      <td>152</td>\n",
       "    </tr>\n",
       "    <tr>\n",
       "      <th>214080</th>\n",
       "      <td>WATSON-PARKER, MARY</td>\n",
       "      <td>SPIDER-MAN/PETER PAR</td>\n",
       "      <td>321</td>\n",
       "    </tr>\n",
       "    <tr>\n",
       "      <th>218871</th>\n",
       "      <td>WOLVERINE/LOGAN</td>\n",
       "      <td>COLOSSUS II/PETER RA</td>\n",
       "      <td>159</td>\n",
       "    </tr>\n",
       "    <tr>\n",
       "      <th>219555</th>\n",
       "      <td>WOLVERINE/LOGAN</td>\n",
       "      <td>STORM/ORORO MUNROE S</td>\n",
       "      <td>198</td>\n",
       "    </tr>\n",
       "  </tbody>\n",
       "</table>\n",
       "<p>75 rows × 3 columns</p>\n",
       "</div>"
      ],
      "text/plain": [
       "                       hero1                 hero2  weights\n",
       "3090    ANGEL/WARREN KENNETH  BEAST/HENRY &HANK& P      156\n",
       "3346    ANGEL/WARREN KENNETH  ICEMAN/ROBERT BOBBY       162\n",
       "4408    ANT-MAN/DR. HENRY J.       CAPTAIN AMERICA      154\n",
       "4623    ANT-MAN/DR. HENRY J.  IRON MAN/TONY STARK       156\n",
       "5049    ANT-MAN/DR. HENRY J.  WASP/JANET VAN DYNE       195\n",
       "...                      ...                   ...      ...\n",
       "212460  WASP/JANET VAN DYNE        CAPTAIN AMERICA      193\n",
       "212669  WASP/JANET VAN DYNE   IRON MAN/TONY STARK       152\n",
       "214080  WATSON-PARKER, MARY   SPIDER-MAN/PETER PAR      321\n",
       "218871      WOLVERINE/LOGAN   COLOSSUS II/PETER RA      159\n",
       "219555      WOLVERINE/LOGAN   STORM/ORORO MUNROE S      198\n",
       "\n",
       "[75 rows x 3 columns]"
      ]
     },
     "execution_count": 13,
     "metadata": {},
     "output_type": "execute_result"
    }
   ],
   "source": [
    "tdf[tdf.weights>=150]"
   ]
  },
  {
   "cell_type": "code",
   "execution_count": 87,
   "id": "334e3d00-36da-40b6-862b-73f535e49e95",
   "metadata": {},
   "outputs": [],
   "source": [
    "mini_tdf = tdf[tdf.index<=2000]"
   ]
  },
  {
   "cell_type": "code",
   "execution_count": 88,
   "id": "1b51a33e-6c03-4e28-b31f-af11d2f22802",
   "metadata": {},
   "outputs": [],
   "source": [
    "G = nx.from_pandas_edgelist(df=mini_tdf, source=\"hero1\", target=\"hero2\", edge_attr=\"weights\")"
   ]
  },
  {
   "cell_type": "code",
   "execution_count": 89,
   "id": "bd209863-7e6a-48f3-b8e6-b45828895180",
   "metadata": {},
   "outputs": [
    {
     "data": {
      "image/png": "[encoded data removed]",
      "text/plain": [
       "<Figure size 432x288 with 1 Axes>"
      ]
     },
     "metadata": {},
     "output_type": "display_data"
    }
   ],
   "source": [
    "nx.draw_spring(G)"
   ]
  },
  {
   "cell_type": "code",
   "execution_count": 90,
   "id": "6b32f2e4-fc90-4863-b807-1eeeda7042f8",
   "metadata": {},
   "outputs": [
    {
     "name": "stderr",
     "output_type": "stream",
     "text": [
      "<ipython-input-90-278252ef8d39>:1: FutureWarning: adjacency_matrix will return a scipy.sparse array instead of a matrix in Networkx 3.0.\n",
      "  marvel_matrix = nx.adjacency_matrix(G,weight=\"weights\")\n"
     ]
    }
   ],
   "source": [
    "marvel_matrix = nx.adjacency_matrix(G,weight=\"weights\")"
   ]
  },
  {
   "cell_type": "code",
   "execution_count": 137,
   "id": "e6c3958f-7009-4f83-9568-e5fbd5a569fe",
   "metadata": {},
   "outputs": [
    {
     "name": "stdout",
     "output_type": "stream",
     "text": [
      "The Marvel matrix has density 0.0029695055199095576\n"
     ]
    }
   ],
   "source": [
    "n = marvel_matrix.count_nonzero()\n",
    "x,y = marvel_matrix.shape\n",
    "dm = n / (x * y)\n",
    "print(\"The Marvel matrix has density\", dm)"
   ]
  },
  {
   "cell_type": "markdown",
   "id": "8adf777c-73fe-4ce1-b9e4-ca5126680ccb",
   "metadata": {},
   "source": [
    "### A bag of words model matrix"
   ]
  },
  {
   "cell_type": "code",
   "execution_count": 18,
   "id": "bd478efd-127e-4e5c-b5cb-cd06a664719b",
   "metadata": {},
   "outputs": [],
   "source": [
    "# Override TfidfVectorizer\n",
    "class StemmedCountVectorizer(CountVectorizer):\n",
    "    def build_analyzer(self):\n",
    "        analyzer = super(CountVectorizer, self).build_analyzer()\n",
    "        return lambda doc: stemmer.stemWords(analyzer(doc))"
   ]
  },
  {
   "cell_type": "code",
   "execution_count": 19,
   "id": "8b216e4c-ab42-4e8b-9e01-08f756e45ee0",
   "metadata": {},
   "outputs": [
    {
     "name": "stderr",
     "output_type": "stream",
     "text": [
      "Reusing dataset newsgroups (/home/nick/.cache/huggingface/datasets/newsgroups/18828_talk.politics.guns/3.0.0/8ea0c9dc025ecfbfd96a2c1e22caa1e1281f361946dac08205448d66f78398f5)\n"
     ]
    },
    {
     "data": {
      "application/vnd.jupyter.widget-view+json": {
       "model_id": "d10b80889ca24e97bb27bc9f89f96428",
       "version_major": 2,
       "version_minor": 0
      },
      "text/plain": [
       "  0%|          | 0/1 [00:00<?, ?it/s]"
      ]
     },
     "metadata": {},
     "output_type": "display_data"
    }
   ],
   "source": [
    "dataset = load_dataset(\"newsgroup\",'18828_talk.politics.guns')\n",
    "text_data = dataset['train']['text']\n",
    "stemmer = Stemmer.Stemmer('en')\n",
    "analyzer = CountVectorizer().build_analyzer()\n",
    "vectorizer = StemmedCountVectorizer(stop_words='english', min_df=5, max_df=0.5)\n",
    "text_matrix = vectorizer.fit_transform(text_data)  \n",
    "vocab = vectorizer.get_feature_names_out()"
   ]
  },
  {
   "cell_type": "code",
   "execution_count": 145,
   "id": "37ce6ddb-38e8-4112-bfdf-f1fc04062b76",
   "metadata": {},
   "outputs": [
    {
     "data": {
      "text/plain": [
       "(910, 3631)"
      ]
     },
     "execution_count": 145,
     "metadata": {},
     "output_type": "execute_result"
    }
   ],
   "source": [
    "text_matrix.shape"
   ]
  },
  {
   "cell_type": "code",
   "execution_count": 136,
   "id": "7e456c12-5327-4b66-98eb-799f69f78f19",
   "metadata": {},
   "outputs": [
    {
     "name": "stdout",
     "output_type": "stream",
     "text": [
      "The text matrix has density 0.027128723658605233\n"
     ]
    }
   ],
   "source": [
    "n = text_matrix.count_nonzero()\n",
    "x,y = text_matrix.shape\n",
    "dt = n / (x * y)\n",
    "print(\"The text matrix has density\", dt)"
   ]
  },
  {
   "cell_type": "markdown",
   "id": "e7ce1a26-590c-4680-8d25-69a72973be34",
   "metadata": {},
   "source": [
    "## Performing dimensionality reduction"
   ]
  },
  {
   "cell_type": "code",
   "execution_count": 92,
   "id": "80872f9d-721b-4f57-a954-d0bd9215e06a",
   "metadata": {},
   "outputs": [],
   "source": [
    "low = 2\n",
    "med = 20\n",
    "X_t = text_matrix.toarray()\n",
    "X_m = marvel_matrix.toarray()"
   ]
  },
  {
   "cell_type": "code",
   "execution_count": 93,
   "id": "fac8fd01-8277-4cdc-9327-ea832633af51",
   "metadata": {},
   "outputs": [],
   "source": [
    "pcatlow = PCA(n_components = low) # keep the first low components\n",
    "pcatlow.fit(X_t)\n",
    "Z_t_pca_low = pcatlow.transform(X_t)\n",
    "\n",
    "pcatmed = PCA(n_components = med) # keep the first med components\n",
    "pcatmed.fit(X_t)\n",
    "Z_t_pca_med = pcatmed.transform(X_t)"
   ]
  },
  {
   "cell_type": "code",
   "execution_count": 94,
   "id": "4308a4e5-0198-4d26-abde-f958729ad3cd",
   "metadata": {},
   "outputs": [],
   "source": [
    "pcamlow = PCA(n_components = low) # keep the first low components\n",
    "pcamlow.fit(X_m)\n",
    "Z_m_pca_low = pcamlow.transform(X_m)\n",
    "\n",
    "pcammed = PCA(n_components = med) # keep the first med components\n",
    "pcammed.fit(X_m)\n",
    "Z_m_pca_med = pcammed.transform(X_m)"
   ]
  },
  {
   "cell_type": "code",
   "execution_count": 95,
   "id": "eda189ab-f6e0-41cd-bad4-7520996c629a",
   "metadata": {},
   "outputs": [],
   "source": [
    "nmftlow = NMF(n_components = low, init='nndsvda', beta_loss=\"kullback-leibler\", solver=\"mu\", max_iter=(1000)) # keep the first low components\n",
    "nmftlow.fit(X_t)\n",
    "Z_t_nmf_low = nmftlow.transform(X_t)\n",
    "\n",
    "nmftmed = NMF(n_components = med, init='nndsvda', beta_loss=\"kullback-leibler\", solver=\"mu\", max_iter=(1000)) # keep the first med components\n",
    "nmftmed.fit(X_t)\n",
    "Z_t_nmf_med = nmftmed.transform(X_t)"
   ]
  },
  {
   "cell_type": "code",
   "execution_count": 96,
   "id": "0184c8ba-13a8-4dc0-b999-42c4cba7a63f",
   "metadata": {},
   "outputs": [],
   "source": [
    "nmfmlow = NMF(n_components = low, init='nndsvda', beta_loss=\"kullback-leibler\", solver=\"mu\", max_iter=(1000)) # keep the first low components\n",
    "nmfmlow.fit(X_m)\n",
    "Z_m_nmf_low = nmfmlow.transform(X_m)\n",
    "\n",
    "nmfmmed = NMF(n_components = med, init='nndsvda', beta_loss=\"kullback-leibler\", solver=\"mu\", max_iter=(1000)) # keep the first med components\n",
    "nmfmmed.fit(X_m)\n",
    "Z_m_nmf_med = nmfmmed.transform(X_m)"
   ]
  },
  {
   "cell_type": "code",
   "execution_count": 97,
   "id": "a901a263-fb7d-494f-8789-b40f013a95c9",
   "metadata": {},
   "outputs": [],
   "source": [
    "umaptlow = UMAP(n_components = low, init='random')\n",
    "umaptlow.fit(X_t)\n",
    "Z_t_umap_low = umaptlow.transform(X_t)\n",
    "\n",
    "umaptmed = UMAP(n_components = med, init='random')\n",
    "umaptmed.fit(X_t)\n",
    "Z_t_umap_med = umaptmed.transform(X_t)"
   ]
  },
  {
   "cell_type": "code",
   "execution_count": 98,
   "id": "5df8d335-9088-4569-b096-ab9000d448f7",
   "metadata": {},
   "outputs": [],
   "source": [
    "umapmlow = UMAP(n_components = low, init='random')\n",
    "umapmlow.fit(X_m)\n",
    "Z_m_umap_low = umapmlow.transform(X_m)\n",
    "\n",
    "umapmmed = UMAP(n_components = med, init='random')\n",
    "umapmmed.fit(X_m)\n",
    "Z_m_umap_med = umapmmed.transform(X_m)"
   ]
  },
  {
   "cell_type": "markdown",
   "id": "12f8fc16-b876-4fe1-9687-2d6876601e2b",
   "metadata": {},
   "source": [
    "This next cell just backs up our work so far."
   ]
  },
  {
   "cell_type": "code",
   "execution_count": 99,
   "id": "51685571-f962-4c8e-938a-a7c0697dd67e",
   "metadata": {},
   "outputs": [],
   "source": [
    "mats = [X_t, X_m]\n",
    "lows = [Z_t_pca_low,Z_m_pca_low,Z_t_nmf_low,Z_m_nmf_low,Z_t_umap_low,Z_m_umap_low]\n",
    "meds = [Z_t_pca_med,Z_m_pca_med,Z_t_nmf_med,Z_m_nmf_med,Z_t_umap_med,Z_m_umap_med]\n",
    "with open(\"../Data/matrices.pkl\", 'wb') as pfile:\n",
    "    pickle.dump([mats, lows, meds], pfile)"
   ]
  },
  {
   "cell_type": "markdown",
   "id": "c63f91f6-1865-4d67-a60f-5f47f4278800",
   "metadata": {},
   "source": [
    "## Evaluate reductions"
   ]
  },
  {
   "cell_type": "markdown",
   "id": "05d8ad07-c515-4d3a-86b1-d4c120e774c6",
   "metadata": {},
   "source": [
    "Kruskal stress"
   ]
  },
  {
   "cell_type": "code",
   "execution_count": 122,
   "id": "a736657f-1f40-490b-af99-1e73705d5e98",
   "metadata": {},
   "outputs": [
    {
     "data": {
      "application/vnd.jupyter.widget-view+json": {
       "model_id": "b3f305a580334702bc368ea17963ca42",
       "version_major": 2,
       "version_minor": 0
      },
      "text/plain": [
       "  0%|          | 0/6 [00:00<?, ?it/s]"
      ]
     },
     "metadata": {},
     "output_type": "display_data"
    }
   ],
   "source": [
    "lows_ks = []\n",
    "for i in tqdm(range(len(lows))):\n",
    "    s = talebackend.Stress(mats[i%2],lows[i])\n",
    "    kruskal_stress = s.compute()\n",
    "    lows_ks.append(kruskal_stress)"
   ]
  },
  {
   "cell_type": "code",
   "execution_count": 124,
   "id": "32a6f6dc-5837-4cc6-afc9-bbf04a7c3ffd",
   "metadata": {},
   "outputs": [
    {
     "data": {
      "application/vnd.jupyter.widget-view+json": {
       "model_id": "f9af6df51cae454da548f58f36e92bed",
       "version_major": 2,
       "version_minor": 0
      },
      "text/plain": [
       "  0%|          | 0/6 [00:00<?, ?it/s]"
      ]
     },
     "metadata": {},
     "output_type": "display_data"
    }
   ],
   "source": [
    "meds_ks = []\n",
    "for i in tqdm(range(len(meds))):\n",
    "    s = talebackend.Stress(mats[i%2],meds[i])\n",
    "    kruskal_stress = s.compute()\n",
    "    meds_ks.append(kruskal_stress)"
   ]
  },
  {
   "cell_type": "markdown",
   "id": "a49c8080-731d-4c5e-a174-0039e78f8cfc",
   "metadata": {},
   "source": [
    "Coranking-based measures"
   ]
  },
  {
   "cell_type": "code",
   "execution_count": 134,
   "id": "db4bfede-1a16-46a6-a830-234bba21974e",
   "metadata": {},
   "outputs": [
    {
     "data": {
      "application/vnd.jupyter.widget-view+json": {
       "model_id": "57b7028aa4664e9ca871ee9fc5e09f32",
       "version_major": 2,
       "version_minor": 0
      },
      "text/plain": [
       "  0%|          | 0/6 [00:00<?, ?it/s]"
      ]
     },
     "metadata": {},
     "output_type": "display_data"
    }
   ],
   "source": [
    "lows_ms = []\n",
    "lows_bc = []\n",
    "lows_qc = []\n",
    "for i in tqdm(range(len(lows))):\n",
    "    c = talebackend.CorankingMatrix(high_dimensional_data=mats[i%2],\n",
    "                            low_dimensional_data=lows[i],\n",
    "                            distance_metric='euclidean',)\n",
    "    b = talebackend.CorankingMatrixBehaviourCriterion(high_dimensional_data=mats[i%2],\n",
    "                                                     low_dimensional_data=lows[i],\n",
    "                                                     distance_metric='euclidean',\n",
    "                                                     coranking_matrix=c,\n",
    "                                                     )\n",
    "    q = talebackend.CorankingMatrixQualityCriterion(high_dimensional_data=mats[i%2],\n",
    "                                                     low_dimensional_data=lows[i],\n",
    "                                                     distance_metric='euclidean',\n",
    "                                                     coranking_matrix=c,\n",
    "                                                     )    \n",
    "    m = talebackend.MRRE(high_dimensional_data=mats[i%2],\n",
    "                     low_dimensional_data=lows[i],\n",
    "                     distance_metric='euclidean',\n",
    "                     coranking_matrix=c,\n",
    "                     )\n",
    "    bc = b.compute()\n",
    "    ms = m.compute()\n",
    "    qc = q.compute()\n",
    "    lows_ms.append(ms)\n",
    "    lows_bc.append(bc)\n",
    "    lows_qc.append(qc)"
   ]
  },
  {
   "cell_type": "code",
   "execution_count": 135,
   "id": "86254f40-7f46-4aea-9b80-459eb4482917",
   "metadata": {},
   "outputs": [
    {
     "data": {
      "application/vnd.jupyter.widget-view+json": {
       "model_id": "baa7ad890ce24c57a1ed2737309dec14",
       "version_major": 2,
       "version_minor": 0
      },
      "text/plain": [
       "  0%|          | 0/6 [00:00<?, ?it/s]"
      ]
     },
     "metadata": {},
     "output_type": "display_data"
    }
   ],
   "source": [
    "meds_ms = []\n",
    "meds_bc = []\n",
    "meds_qc = []\n",
    "for i in tqdm(range(len(meds))):\n",
    "    c = talebackend.CorankingMatrix(high_dimensional_data=mats[i%2],\n",
    "                            low_dimensional_data=meds[i],\n",
    "                            distance_metric='euclidean',)\n",
    "    b = talebackend.CorankingMatrixBehaviourCriterion(high_dimensional_data=mats[i%2],\n",
    "                                                     low_dimensional_data=meds[i],\n",
    "                                                     distance_metric='euclidean',\n",
    "                                                     coranking_matrix=c,\n",
    "                                                     )\n",
    "    q = talebackend.CorankingMatrixQualityCriterion(high_dimensional_data=mats[i%2],\n",
    "                                                     low_dimensional_data=lows[i],\n",
    "                                                     distance_metric='euclidean',\n",
    "                                                     coranking_matrix=c,\n",
    "                                                     )      \n",
    "    m = talebackend.MRRE(high_dimensional_data=mats[i%2],\n",
    "                     low_dimensional_data=meds[i],\n",
    "                     distance_metric='euclidean',\n",
    "                     coranking_matrix=c,\n",
    "                     )\n",
    "    bc = b.compute()\n",
    "    ms = m.compute()\n",
    "    qc = q.compute()\n",
    "    meds_ms.append(ms)\n",
    "    meds_bc.append(bc)\n",
    "    meds_qc.append(qc)"
   ]
  },
  {
   "cell_type": "code",
   "execution_count": 143,
   "id": "c6d9b172-fd01-434f-b6ec-56ac348381a5",
   "metadata": {},
   "outputs": [],
   "source": [
    "types = [\"text\", \"graph\"]\n",
    "dims = [X_t.shape[1], X_m.shape[1]]\n",
    "densities = [dt, dm]\n",
    "metrics = pd.DataFrame()\n",
    "metrics[\"Data\"] = types * len(lows)\n",
    "metrics[\"DR\"] = [\"PCA\",\"PCA\",\"NMF\",\"NMF\",\"UMAP\",\"UMAP\"]*2\n",
    "metrics[\"High\"] = dims * len(lows)\n",
    "metrics[\"Low\"] = [low] * len(lows) + [med]*len(meds)\n",
    "metrics[\"Density\"] = densities * len(lows) \n",
    "metrics[\"Kruskal Stress\"] =  lows_ks + meds_ks\n",
    "metrics[\"MRRE\"] =  lows_ms + meds_ms\n",
    "metrics[\"Coranking Quality\"] = lows_qc + meds_qc\n",
    "metrics[\"Coranking Behavior\"] = lows_bc + meds_bc"
   ]
  },
  {
   "cell_type": "code",
   "execution_count": 144,
   "id": "26862b76-3374-42df-b0ce-79335c6482f9",
   "metadata": {},
   "outputs": [
    {
     "data": {
      "text/html": [
       "<div>\n",
       "<style scoped>\n",
       "    .dataframe tbody tr th:only-of-type {\n",
       "        vertical-align: middle;\n",
       "    }\n",
       "\n",
       "    .dataframe tbody tr th {\n",
       "        vertical-align: top;\n",
       "    }\n",
       "\n",
       "    .dataframe thead th {\n",
       "        text-align: right;\n",
       "    }\n",
       "</style>\n",
       "<table border=\"1\" class=\"dataframe\">\n",
       "  <thead>\n",
       "    <tr style=\"text-align: right;\">\n",
       "      <th></th>\n",
       "      <th>Data</th>\n",
       "      <th>DR</th>\n",
       "      <th>High</th>\n",
       "      <th>Low</th>\n",
       "      <th>Density</th>\n",
       "      <th>Kruskal Stress</th>\n",
       "      <th>MRRE</th>\n",
       "      <th>Coranking Quality</th>\n",
       "      <th>Coranking Behavior</th>\n",
       "    </tr>\n",
       "  </thead>\n",
       "  <tbody>\n",
       "    <tr>\n",
       "      <th>0</th>\n",
       "      <td>text</td>\n",
       "      <td>PCA</td>\n",
       "      <td>3631</td>\n",
       "      <td>2</td>\n",
       "      <td>0.027129</td>\n",
       "      <td>0.163828</td>\n",
       "      <td>0</td>\n",
       "      <td>0.014101</td>\n",
       "      <td>0.000577</td>\n",
       "    </tr>\n",
       "    <tr>\n",
       "      <th>1</th>\n",
       "      <td>graph</td>\n",
       "      <td>PCA</td>\n",
       "      <td>1158</td>\n",
       "      <td>2</td>\n",
       "      <td>0.002970</td>\n",
       "      <td>0.411585</td>\n",
       "      <td>0</td>\n",
       "      <td>0.161024</td>\n",
       "      <td>0.000387</td>\n",
       "    </tr>\n",
       "    <tr>\n",
       "      <th>2</th>\n",
       "      <td>text</td>\n",
       "      <td>NMF</td>\n",
       "      <td>3631</td>\n",
       "      <td>2</td>\n",
       "      <td>0.027129</td>\n",
       "      <td>0.244743</td>\n",
       "      <td>0</td>\n",
       "      <td>0.004747</td>\n",
       "      <td>0.000410</td>\n",
       "    </tr>\n",
       "    <tr>\n",
       "      <th>3</th>\n",
       "      <td>graph</td>\n",
       "      <td>NMF</td>\n",
       "      <td>1158</td>\n",
       "      <td>2</td>\n",
       "      <td>0.002970</td>\n",
       "      <td>0.438609</td>\n",
       "      <td>0</td>\n",
       "      <td>0.070470</td>\n",
       "      <td>0.001897</td>\n",
       "    </tr>\n",
       "    <tr>\n",
       "      <th>4</th>\n",
       "      <td>text</td>\n",
       "      <td>UMAP</td>\n",
       "      <td>3631</td>\n",
       "      <td>2</td>\n",
       "      <td>0.027129</td>\n",
       "      <td>0.455812</td>\n",
       "      <td>0</td>\n",
       "      <td>0.188047</td>\n",
       "      <td>0.006777</td>\n",
       "    </tr>\n",
       "    <tr>\n",
       "      <th>5</th>\n",
       "      <td>graph</td>\n",
       "      <td>UMAP</td>\n",
       "      <td>1158</td>\n",
       "      <td>2</td>\n",
       "      <td>0.002970</td>\n",
       "      <td>0.519252</td>\n",
       "      <td>0</td>\n",
       "      <td>0.181188</td>\n",
       "      <td>0.001310</td>\n",
       "    </tr>\n",
       "    <tr>\n",
       "      <th>6</th>\n",
       "      <td>text</td>\n",
       "      <td>PCA</td>\n",
       "      <td>3631</td>\n",
       "      <td>20</td>\n",
       "      <td>0.027129</td>\n",
       "      <td>0.103706</td>\n",
       "      <td>0</td>\n",
       "      <td>0.215109</td>\n",
       "      <td>0.002669</td>\n",
       "    </tr>\n",
       "    <tr>\n",
       "      <th>7</th>\n",
       "      <td>graph</td>\n",
       "      <td>PCA</td>\n",
       "      <td>1158</td>\n",
       "      <td>20</td>\n",
       "      <td>0.002970</td>\n",
       "      <td>0.210524</td>\n",
       "      <td>0</td>\n",
       "      <td>0.252444</td>\n",
       "      <td>0.001467</td>\n",
       "    </tr>\n",
       "    <tr>\n",
       "      <th>8</th>\n",
       "      <td>text</td>\n",
       "      <td>NMF</td>\n",
       "      <td>3631</td>\n",
       "      <td>20</td>\n",
       "      <td>0.027129</td>\n",
       "      <td>0.137815</td>\n",
       "      <td>0</td>\n",
       "      <td>0.109935</td>\n",
       "      <td>0.005748</td>\n",
       "    </tr>\n",
       "    <tr>\n",
       "      <th>9</th>\n",
       "      <td>graph</td>\n",
       "      <td>NMF</td>\n",
       "      <td>1158</td>\n",
       "      <td>20</td>\n",
       "      <td>0.002970</td>\n",
       "      <td>0.393748</td>\n",
       "      <td>0</td>\n",
       "      <td>0.166651</td>\n",
       "      <td>0.006948</td>\n",
       "    </tr>\n",
       "    <tr>\n",
       "      <th>10</th>\n",
       "      <td>text</td>\n",
       "      <td>UMAP</td>\n",
       "      <td>3631</td>\n",
       "      <td>20</td>\n",
       "      <td>0.027129</td>\n",
       "      <td>0.367856</td>\n",
       "      <td>0</td>\n",
       "      <td>0.364463</td>\n",
       "      <td>0.005375</td>\n",
       "    </tr>\n",
       "    <tr>\n",
       "      <th>11</th>\n",
       "      <td>graph</td>\n",
       "      <td>UMAP</td>\n",
       "      <td>1158</td>\n",
       "      <td>20</td>\n",
       "      <td>0.002970</td>\n",
       "      <td>0.454118</td>\n",
       "      <td>0</td>\n",
       "      <td>0.191261</td>\n",
       "      <td>0.000398</td>\n",
       "    </tr>\n",
       "  </tbody>\n",
       "</table>\n",
       "</div>"
      ],
      "text/plain": [
       "     Data    DR  High  Low   Density  Kruskal Stress  MRRE  Coranking Quality  \\\n",
       "0    text   PCA  3631    2  0.027129        0.163828     0           0.014101   \n",
       "1   graph   PCA  1158    2  0.002970        0.411585     0           0.161024   \n",
       "2    text   NMF  3631    2  0.027129        0.244743     0           0.004747   \n",
       "3   graph   NMF  1158    2  0.002970        0.438609     0           0.070470   \n",
       "4    text  UMAP  3631    2  0.027129        0.455812     0           0.188047   \n",
       "5   graph  UMAP  1158    2  0.002970        0.519252     0           0.181188   \n",
       "6    text   PCA  3631   20  0.027129        0.103706     0           0.215109   \n",
       "7   graph   PCA  1158   20  0.002970        0.210524     0           0.252444   \n",
       "8    text   NMF  3631   20  0.027129        0.137815     0           0.109935   \n",
       "9   graph   NMF  1158   20  0.002970        0.393748     0           0.166651   \n",
       "10   text  UMAP  3631   20  0.027129        0.367856     0           0.364463   \n",
       "11  graph  UMAP  1158   20  0.002970        0.454118     0           0.191261   \n",
       "\n",
       "    Coranking Behavior  \n",
       "0             0.000577  \n",
       "1             0.000387  \n",
       "2             0.000410  \n",
       "3             0.001897  \n",
       "4             0.006777  \n",
       "5             0.001310  \n",
       "6             0.002669  \n",
       "7             0.001467  \n",
       "8             0.005748  \n",
       "9             0.006948  \n",
       "10            0.005375  \n",
       "11            0.000398  "
      ]
     },
     "execution_count": 144,
     "metadata": {},
     "output_type": "execute_result"
    }
   ],
   "source": [
    "metrics"
   ]
  },
  {
   "cell_type": "code",
   "execution_count": 146,
   "id": "3de66945-e20c-477b-aedf-63a50c1761cf",
   "metadata": {},
   "outputs": [
    {
     "data": {
      "text/html": [
       "<div>\n",
       "<style scoped>\n",
       "    .dataframe tbody tr th:only-of-type {\n",
       "        vertical-align: middle;\n",
       "    }\n",
       "\n",
       "    .dataframe tbody tr th {\n",
       "        vertical-align: top;\n",
       "    }\n",
       "\n",
       "    .dataframe thead th {\n",
       "        text-align: right;\n",
       "    }\n",
       "</style>\n",
       "<table border=\"1\" class=\"dataframe\">\n",
       "  <thead>\n",
       "    <tr style=\"text-align: right;\">\n",
       "      <th></th>\n",
       "      <th>Data</th>\n",
       "      <th>DR</th>\n",
       "      <th>High</th>\n",
       "      <th>Low</th>\n",
       "      <th>Density</th>\n",
       "      <th>Kruskal Stress</th>\n",
       "      <th>MRRE</th>\n",
       "      <th>Coranking Quality</th>\n",
       "      <th>Coranking Behavior</th>\n",
       "    </tr>\n",
       "  </thead>\n",
       "  <tbody>\n",
       "    <tr>\n",
       "      <th>0</th>\n",
       "      <td>text</td>\n",
       "      <td>PCA</td>\n",
       "      <td>3631</td>\n",
       "      <td>2</td>\n",
       "      <td>0.027129</td>\n",
       "      <td>0.163828</td>\n",
       "      <td>0</td>\n",
       "      <td>0.014101</td>\n",
       "      <td>0.000577</td>\n",
       "    </tr>\n",
       "    <tr>\n",
       "      <th>2</th>\n",
       "      <td>text</td>\n",
       "      <td>NMF</td>\n",
       "      <td>3631</td>\n",
       "      <td>2</td>\n",
       "      <td>0.027129</td>\n",
       "      <td>0.244743</td>\n",
       "      <td>0</td>\n",
       "      <td>0.004747</td>\n",
       "      <td>0.000410</td>\n",
       "    </tr>\n",
       "    <tr>\n",
       "      <th>4</th>\n",
       "      <td>text</td>\n",
       "      <td>UMAP</td>\n",
       "      <td>3631</td>\n",
       "      <td>2</td>\n",
       "      <td>0.027129</td>\n",
       "      <td>0.455812</td>\n",
       "      <td>0</td>\n",
       "      <td>0.188047</td>\n",
       "      <td>0.006777</td>\n",
       "    </tr>\n",
       "    <tr>\n",
       "      <th>6</th>\n",
       "      <td>text</td>\n",
       "      <td>PCA</td>\n",
       "      <td>3631</td>\n",
       "      <td>20</td>\n",
       "      <td>0.027129</td>\n",
       "      <td>0.103706</td>\n",
       "      <td>0</td>\n",
       "      <td>0.215109</td>\n",
       "      <td>0.002669</td>\n",
       "    </tr>\n",
       "    <tr>\n",
       "      <th>8</th>\n",
       "      <td>text</td>\n",
       "      <td>NMF</td>\n",
       "      <td>3631</td>\n",
       "      <td>20</td>\n",
       "      <td>0.027129</td>\n",
       "      <td>0.137815</td>\n",
       "      <td>0</td>\n",
       "      <td>0.109935</td>\n",
       "      <td>0.005748</td>\n",
       "    </tr>\n",
       "    <tr>\n",
       "      <th>10</th>\n",
       "      <td>text</td>\n",
       "      <td>UMAP</td>\n",
       "      <td>3631</td>\n",
       "      <td>20</td>\n",
       "      <td>0.027129</td>\n",
       "      <td>0.367856</td>\n",
       "      <td>0</td>\n",
       "      <td>0.364463</td>\n",
       "      <td>0.005375</td>\n",
       "    </tr>\n",
       "  </tbody>\n",
       "</table>\n",
       "</div>"
      ],
      "text/plain": [
       "    Data    DR  High  Low   Density  Kruskal Stress  MRRE  Coranking Quality  \\\n",
       "0   text   PCA  3631    2  0.027129        0.163828     0           0.014101   \n",
       "2   text   NMF  3631    2  0.027129        0.244743     0           0.004747   \n",
       "4   text  UMAP  3631    2  0.027129        0.455812     0           0.188047   \n",
       "6   text   PCA  3631   20  0.027129        0.103706     0           0.215109   \n",
       "8   text   NMF  3631   20  0.027129        0.137815     0           0.109935   \n",
       "10  text  UMAP  3631   20  0.027129        0.367856     0           0.364463   \n",
       "\n",
       "    Coranking Behavior  \n",
       "0             0.000577  \n",
       "2             0.000410  \n",
       "4             0.006777  \n",
       "6             0.002669  \n",
       "8             0.005748  \n",
       "10            0.005375  "
      ]
     },
     "execution_count": 146,
     "metadata": {},
     "output_type": "execute_result"
    }
   ],
   "source": [
    "metrics[metrics[\"Data\"]==\"text\"]"
   ]
  },
  {
   "cell_type": "code",
   "execution_count": 147,
   "id": "eac653d0-a903-4dce-94a8-512f4857e64d",
   "metadata": {},
   "outputs": [
    {
     "data": {
      "text/html": [
       "<div>\n",
       "<style scoped>\n",
       "    .dataframe tbody tr th:only-of-type {\n",
       "        vertical-align: middle;\n",
       "    }\n",
       "\n",
       "    .dataframe tbody tr th {\n",
       "        vertical-align: top;\n",
       "    }\n",
       "\n",
       "    .dataframe thead th {\n",
       "        text-align: right;\n",
       "    }\n",
       "</style>\n",
       "<table border=\"1\" class=\"dataframe\">\n",
       "  <thead>\n",
       "    <tr style=\"text-align: right;\">\n",
       "      <th></th>\n",
       "      <th>Data</th>\n",
       "      <th>DR</th>\n",
       "      <th>High</th>\n",
       "      <th>Low</th>\n",
       "      <th>Density</th>\n",
       "      <th>Kruskal Stress</th>\n",
       "      <th>MRRE</th>\n",
       "      <th>Coranking Quality</th>\n",
       "      <th>Coranking Behavior</th>\n",
       "    </tr>\n",
       "  </thead>\n",
       "  <tbody>\n",
       "    <tr>\n",
       "      <th>1</th>\n",
       "      <td>graph</td>\n",
       "      <td>PCA</td>\n",
       "      <td>1158</td>\n",
       "      <td>2</td>\n",
       "      <td>0.00297</td>\n",
       "      <td>0.411585</td>\n",
       "      <td>0</td>\n",
       "      <td>0.161024</td>\n",
       "      <td>0.000387</td>\n",
       "    </tr>\n",
       "    <tr>\n",
       "      <th>3</th>\n",
       "      <td>graph</td>\n",
       "      <td>NMF</td>\n",
       "      <td>1158</td>\n",
       "      <td>2</td>\n",
       "      <td>0.00297</td>\n",
       "      <td>0.438609</td>\n",
       "      <td>0</td>\n",
       "      <td>0.070470</td>\n",
       "      <td>0.001897</td>\n",
       "    </tr>\n",
       "    <tr>\n",
       "      <th>5</th>\n",
       "      <td>graph</td>\n",
       "      <td>UMAP</td>\n",
       "      <td>1158</td>\n",
       "      <td>2</td>\n",
       "      <td>0.00297</td>\n",
       "      <td>0.519252</td>\n",
       "      <td>0</td>\n",
       "      <td>0.181188</td>\n",
       "      <td>0.001310</td>\n",
       "    </tr>\n",
       "    <tr>\n",
       "      <th>7</th>\n",
       "      <td>graph</td>\n",
       "      <td>PCA</td>\n",
       "      <td>1158</td>\n",
       "      <td>20</td>\n",
       "      <td>0.00297</td>\n",
       "      <td>0.210524</td>\n",
       "      <td>0</td>\n",
       "      <td>0.252444</td>\n",
       "      <td>0.001467</td>\n",
       "    </tr>\n",
       "    <tr>\n",
       "      <th>9</th>\n",
       "      <td>graph</td>\n",
       "      <td>NMF</td>\n",
       "      <td>1158</td>\n",
       "      <td>20</td>\n",
       "      <td>0.00297</td>\n",
       "      <td>0.393748</td>\n",
       "      <td>0</td>\n",
       "      <td>0.166651</td>\n",
       "      <td>0.006948</td>\n",
       "    </tr>\n",
       "    <tr>\n",
       "      <th>11</th>\n",
       "      <td>graph</td>\n",
       "      <td>UMAP</td>\n",
       "      <td>1158</td>\n",
       "      <td>20</td>\n",
       "      <td>0.00297</td>\n",
       "      <td>0.454118</td>\n",
       "      <td>0</td>\n",
       "      <td>0.191261</td>\n",
       "      <td>0.000398</td>\n",
       "    </tr>\n",
       "  </tbody>\n",
       "</table>\n",
       "</div>"
      ],
      "text/plain": [
       "     Data    DR  High  Low  Density  Kruskal Stress  MRRE  Coranking Quality  \\\n",
       "1   graph   PCA  1158    2  0.00297        0.411585     0           0.161024   \n",
       "3   graph   NMF  1158    2  0.00297        0.438609     0           0.070470   \n",
       "5   graph  UMAP  1158    2  0.00297        0.519252     0           0.181188   \n",
       "7   graph   PCA  1158   20  0.00297        0.210524     0           0.252444   \n",
       "9   graph   NMF  1158   20  0.00297        0.393748     0           0.166651   \n",
       "11  graph  UMAP  1158   20  0.00297        0.454118     0           0.191261   \n",
       "\n",
       "    Coranking Behavior  \n",
       "1             0.000387  \n",
       "3             0.001897  \n",
       "5             0.001310  \n",
       "7             0.001467  \n",
       "9             0.006948  \n",
       "11            0.000398  "
      ]
     },
     "execution_count": 147,
     "metadata": {},
     "output_type": "execute_result"
    }
   ],
   "source": [
    "metrics[metrics[\"Data\"]==\"graph\"]"
   ]
  },
  {
   "cell_type": "markdown",
   "id": "4ebf90dd-243a-4e30-9bad-8a6345b9b8f2",
   "metadata": {},
   "source": [
    "## Overfitting figure"
   ]
  },
  {
   "cell_type": "code",
   "execution_count": 47,
   "id": "72fd1456-f2f5-4e73-b3d1-68f070c53d6c",
   "metadata": {},
   "outputs": [
    {
     "data": {
      "image/png": "[encoded data removed]",
      "text/plain": [
       "<Figure size 360x360 with 1 Axes>"
      ]
     },
     "metadata": {
      "needs_background": "light"
     },
     "output_type": "display_data"
    }
   ],
   "source": [
    "figure(figsize=(5,5))\n",
    "d = 10\n",
    "x = list(range(10))\n",
    "y = x\n",
    "eps = np.random.normal(0,0.5,d)\n",
    "yeps = y + eps\n",
    "plot(x,yeps,'.');"
   ]
  },
  {
   "cell_type": "code",
   "execution_count": 51,
   "id": "a0745cb3-5201-4b9c-be2f-972a0748aa27",
   "metadata": {},
   "outputs": [],
   "source": [
    "m1 = polyfit(x, yeps, 1)\n",
    "p1 = poly1d(m1)\n",
    "m5 = polyfit(x, yeps, 4)\n",
    "p5 = poly1d(m5)"
   ]
  },
  {
   "cell_type": "code",
   "execution_count": 58,
   "id": "38796ede-8283-4403-bee7-b321b028571c",
   "metadata": {},
   "outputs": [
    {
     "data": {
      "image/png": "[encoded data removed]",
      "text/plain": [
       "<Figure size 720x720 with 1 Axes>"
      ]
     },
     "metadata": {
      "needs_background": "light"
     },
     "output_type": "display_data"
    }
   ],
   "source": [
    "f = figure(figsize=(10,10))\n",
    "plot(x,yeps,'.', label=\"Linear data with errors\");\n",
    "plot(x, p1(x), '--', label=\"Linear fit\")\n",
    "plot(x, p5(x), label=\"Degree 4 polynomial fit (overtrained)\")\n",
    "legend();\n",
    "f.savefig(\"../Images/overfitting.jpg\",)"
   ]
  },
  {
   "cell_type": "code",
   "execution_count": 150,
   "id": "49492f01-0b70-4d8a-9901-0c1bd125411b",
   "metadata": {},
   "outputs": [
    {
     "data": {
      "text/plain": [
       "0.9755102040816327"
      ]
     },
     "execution_count": 150,
     "metadata": {},
     "output_type": "execute_result"
    }
   ],
   "source": [
    "717/735"
   ]
  },
  {
   "cell_type": "code",
   "execution_count": null,
   "id": "53a0d953-4146-444a-ac25-29ed869331e6",
   "metadata": {},
   "outputs": [],
   "source": []
  }
 ],
 "metadata": {
  "kernelspec": {
   "display_name": "Python 3",
   "language": "python",
   "name": "python3"
  },
  "language_info": {
   "codemirror_mode": {
    "name": "ipython",
    "version": 3
   },
   "file_extension": ".py",
   "mimetype": "text/x-python",
   "name": "python",
   "nbconvert_exporter": "python",
   "pygments_lexer": "ipython3",
   "version": "3.8.8"
  }
 },
 "nbformat": 4,
 "nbformat_minor": 5
}
